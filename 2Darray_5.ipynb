{
 "cells": [
  {
   "cell_type": "markdown",
   "id": "9069144a-defd-4f28-a0e9-6d9064f5be19",
   "metadata": {},
   "source": [
    "# ANS= 1"
   ]
  },
  {
   "cell_type": "code",
   "execution_count": 4,
   "id": "fc95df30-1e14-410f-9058-ebf4f12d22dd",
   "metadata": {},
   "outputs": [
    {
     "name": "stdout",
     "output_type": "stream",
     "text": [
      "[[1, 2], [3, 4]]\n"
     ]
    }
   ],
   "source": [
    "def array_to_matrix(nums,n):\n",
    "    result = []\n",
    "    result1 = []\n",
    "    Final = [result,result1]\n",
    "    for i in range(n):\n",
    "        result.append(nums[i])\n",
    "        result1.append(nums[n+i])\n",
    "        \n",
    "    return Final\n",
    "\n",
    "nums = [1,2,3,4]\n",
    "n = 2\n",
    "print(array_to_matrix(nums,n))\n",
    "        \n",
    "        "
   ]
  },
  {
   "cell_type": "markdown",
   "id": "9127a4a5-890f-408c-84de-c79fbb2690a4",
   "metadata": {},
   "source": [
    "# ANS = 2"
   ]
  },
  {
   "cell_type": "code",
   "execution_count": 6,
   "id": "5adffb4e-3708-479b-87b5-ababc691da6d",
   "metadata": {},
   "outputs": [
    {
     "name": "stdout",
     "output_type": "stream",
     "text": [
      "2\n"
     ]
    }
   ],
   "source": [
    "def coin_arrange(nums):\n",
    "    left = 0\n",
    "    right = nums\n",
    "    while left <= right:\n",
    "        mid = (left+right)//2\n",
    "        total_coins = (mid*(mid+1))//2\n",
    "        if total_coins <= nums:\n",
    "            left = mid+1\n",
    "        else :\n",
    "            right = mid-1\n",
    "    return right\n",
    "        \n",
    "nums = 5\n",
    "print(coin_arrange(nums))"
   ]
  },
  {
   "cell_type": "markdown",
   "id": "489ecc5f-ae5f-449a-9779-0ad24bb01277",
   "metadata": {},
   "source": [
    "# ANS = 3"
   ]
  },
  {
   "cell_type": "code",
   "execution_count": 7,
   "id": "5aca0ac8-0a5a-46ae-8b46-d6e9f3111672",
   "metadata": {},
   "outputs": [
    {
     "name": "stdout",
     "output_type": "stream",
     "text": [
      "[0, 1, 9, 16, 100]\n"
     ]
    }
   ],
   "source": [
    "def sort_arr(nums1):\n",
    "    nums = []\n",
    "    for i in nums1:\n",
    "        i = i*i\n",
    "        nums.append(i)\n",
    "    n = len(nums)\n",
    "    for i in range(n - 1):\n",
    "        for j in range(n - 1 - i):\n",
    "            if nums[j] > nums[j + 1]:\n",
    "                nums[j], nums[j + 1] = nums[j + 1], nums[j]\n",
    "    return nums \n",
    "     \n",
    "\n",
    "                \n",
    "nums1 = [-4,-1,0,3,10]\n",
    "print(sort_arr(nums1))"
   ]
  },
  {
   "cell_type": "markdown",
   "id": "8b3e01ba-d326-48fa-8590-c76bd9c4a179",
   "metadata": {},
   "source": [
    "# ANS = 4"
   ]
  },
  {
   "cell_type": "code",
   "execution_count": 10,
   "id": "a2bf8aaf-8a85-4ff8-91db-a63b3b3bd813",
   "metadata": {},
   "outputs": [
    {
     "name": "stdout",
     "output_type": "stream",
     "text": [
      "([1, 3], [4, 6])\n"
     ]
    }
   ],
   "source": [
    "def find_repeat_number(nums1 , nums2):\n",
    "    set1 = set(nums1)\n",
    "    set2 = set(nums2)\n",
    "    \n",
    "    def_nums1 = set()\n",
    "    def_nums2 = set()\n",
    "    \n",
    "    for num in nums1:\n",
    "        if num not in set2:\n",
    "            def_nums1.add(num)\n",
    "    for num in nums2:\n",
    "        if num not in set1:\n",
    "            def_nums2.add(num)\n",
    "    return (list(def_nums1), list(def_nums2))\n",
    "\n",
    "nums1 = [1,2,3]\n",
    "nums2 = [2,4,6]\n",
    "print(find_repeat_number(nums1 , nums2))"
   ]
  },
  {
   "cell_type": "markdown",
   "id": "dc988839-66d7-497f-a30f-913967bf22d7",
   "metadata": {},
   "source": [
    "# ANS = 5"
   ]
  },
  {
   "cell_type": "code",
   "execution_count": 21,
   "id": "6b8f97f0-3d53-4960-946a-5099efec2ba0",
   "metadata": {},
   "outputs": [
    {
     "name": "stdout",
     "output_type": "stream",
     "text": [
      "2\n"
     ]
    }
   ],
   "source": [
    "def find_distance_value(arr1, arr2, d):\n",
    "    distance = 0\n",
    "\n",
    "    for num1 in arr1:\n",
    "        found = False\n",
    "        for num2 in arr2:\n",
    "            if abs(num1 - num2) <= d:\n",
    "                found = True\n",
    "                break\n",
    "        if not found:\n",
    "            distance += 1\n",
    "\n",
    "    return distance\n",
    "arr1 = [4, 5, 8]\n",
    "arr2 = [10, 9, 1, 8]\n",
    "d = 2\n",
    "\n",
    "result = find_distance_value(arr1, arr2, d)\n",
    "print(result)\n",
    "            \n",
    "            \n",
    "        "
   ]
  },
  {
   "cell_type": "markdown",
   "id": "7b38bfc7-adfb-4816-8714-4e7cbf4c5c35",
   "metadata": {},
   "source": [
    "# ANS = 6"
   ]
  },
  {
   "cell_type": "code",
   "execution_count": 27,
   "id": "ac658c3f-927a-46ba-ab39-70a9eae7aa37",
   "metadata": {},
   "outputs": [
    {
     "name": "stdout",
     "output_type": "stream",
     "text": [
      "[2, 3]\n"
     ]
    }
   ],
   "source": [
    "def find_duplicates(nums):\n",
    "    result = []\n",
    "\n",
    "    for num in nums:\n",
    "        i = abs(num) - 1\n",
    "        if nums[i] > 0:\n",
    "            nums[i] = -nums[i]\n",
    "        else:\n",
    "            result.append(abs(num))\n",
    "\n",
    "    return result\n",
    "\n",
    "\n",
    "\n",
    "nums = [4, 3, 2, 7, 8, 2, 3, 1]\n",
    "\n",
    "result = find_duplicates(nums)\n",
    "print(result)"
   ]
  },
  {
   "cell_type": "markdown",
   "id": "efad47f5-d945-4245-827c-6470851321db",
   "metadata": {},
   "source": [
    "# ANS = 7"
   ]
  },
  {
   "cell_type": "code",
   "execution_count": 29,
   "id": "2d2284d6-3de9-4944-bd1a-278c2f1db2d6",
   "metadata": {},
   "outputs": [],
   "source": [
    "def find_minimum(nums):\n",
    "    left = 0\n",
    "    right = len(nums) - 1\n",
    "\n",
    "    while left < right:\n",
    "        mid = (left + right) // 2\n",
    "\n",
    "        if nums[mid] > nums[right]:\n",
    "            left = mid + 1\n",
    "        else:\n",
    "            right = mid\n",
    "\n",
    "    return nums[left]\n"
   ]
  },
  {
   "cell_type": "code",
   "execution_count": null,
   "id": "0a4c23b6-df4b-49d0-b6c2-9d7f26db036e",
   "metadata": {},
   "outputs": [],
   "source": []
  }
 ],
 "metadata": {
  "kernelspec": {
   "display_name": "Python 3 (ipykernel)",
   "language": "python",
   "name": "python3"
  },
  "language_info": {
   "codemirror_mode": {
    "name": "ipython",
    "version": 3
   },
   "file_extension": ".py",
   "mimetype": "text/x-python",
   "name": "python",
   "nbconvert_exporter": "python",
   "pygments_lexer": "ipython3",
   "version": "3.10.8"
  }
 },
 "nbformat": 4,
 "nbformat_minor": 5
}
