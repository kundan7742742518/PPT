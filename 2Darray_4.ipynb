{
 "cells": [
  {
   "cell_type": "code",
   "execution_count": 1,
   "id": "d684344a-203a-4782-8f12-0492181e9171",
   "metadata": {},
   "outputs": [],
   "source": [
    "ANS = 1"
   ]
  },
  {
   "cell_type": "code",
   "execution_count": 2,
   "id": "327a72a7-685d-4540-9376-d2dc811e0f61",
   "metadata": {},
   "outputs": [
    {
     "name": "stdout",
     "output_type": "stream",
     "text": [
      "[1, 5]\n"
     ]
    }
   ],
   "source": [
    "def common_elements(arr1, arr2, arr3):\n",
    "    result = []\n",
    "    i = j = k = 0\n",
    "\n",
    "    while i < len(arr1) and j < len(arr2) and k < len(arr3):\n",
    "        if arr1[i] == arr2[j] == arr3[k]:\n",
    "            result.append(arr1[i])\n",
    "            i += 1\n",
    "            j += 1\n",
    "            k += 1\n",
    "        elif arr1[i] < arr2[j] or arr1[i] < arr3[k]:\n",
    "            i += 1\n",
    "        elif arr2[j] < arr1[i] or arr2[j] < arr3[k]:\n",
    "            j += 1\n",
    "        else:\n",
    "            k += 1\n",
    "\n",
    "    return result\n",
    "\n",
    "arr1 = [1, 2, 3, 4, 5]\n",
    "arr2 = [1, 2, 5, 7, 9]\n",
    "arr3 = [1, 3, 4, 5, 8]\n",
    "result = common_elements(arr1, arr2, arr3)\n",
    "print(result)  \n"
   ]
  },
  {
   "cell_type": "markdown",
   "id": "6df61091-5144-4f5a-a105-07cc5aa83114",
   "metadata": {},
   "source": [
    "# ANS = 2"
   ]
  },
  {
   "cell_type": "code",
   "execution_count": 3,
   "id": "ffbd551d-aa9c-43fb-a4ca-6b1c74882e73",
   "metadata": {},
   "outputs": [],
   "source": [
    "def find_repeat_number(nums1 , nums2):\n",
    "    set1 = set(nums1)\n",
    "    set2 = set(nums2)\n",
    "    \n",
    "    def_nums1 = set()\n",
    "    def_nums2 = set()\n",
    "    \n",
    "    for num in nums1:\n",
    "        if num not in set2:\n",
    "            def_nums1.add(num)\n",
    "    for num in nums2:\n",
    "        if num not in set1:\n",
    "            def_nums2.add(num)\n",
    "    return (list(def_nums1), list(def_nums2))\n",
    "    "
   ]
  },
  {
   "cell_type": "code",
   "execution_count": 5,
   "id": "460d6e8d-143b-4f06-8393-bbb2f9ff788d",
   "metadata": {},
   "outputs": [
    {
     "name": "stdout",
     "output_type": "stream",
     "text": [
      "([1, 3], [4, 6])\n"
     ]
    }
   ],
   "source": [
    "nums1 = [1,2,3]\n",
    "nums2 = [2,4,6]\n",
    "print(find_repeat_number(nums1 , nums2))"
   ]
  },
  {
   "cell_type": "markdown",
   "id": "f9a3ebf0-ef47-4d13-81c1-bf36d8a13856",
   "metadata": {},
   "source": [
    "# ANS = 3"
   ]
  },
  {
   "cell_type": "code",
   "execution_count": 3,
   "id": "e5c483fd-0237-4733-ae14-f70fe476a874",
   "metadata": {},
   "outputs": [
    {
     "name": "stdout",
     "output_type": "stream",
     "text": [
      "[[1, 4, 7], [2, 5, 8], [3, 6, 9]]\n"
     ]
    }
   ],
   "source": [
    "def transpose_m(matrix):\n",
    "    n = len(matrix)\n",
    "    for i in range(n):\n",
    "        for j in range(i + 1, n):\n",
    "            temp = matrix[i][j]\n",
    "            matrix[i][j] = matrix[j][i]\n",
    "            matrix[j][i] = temp\n",
    "\n",
    "\n",
    "matrix = [[1, 2, 3], [4, 5, 6], [7, 8, 9]]\n",
    "transpose_m(matrix)\n",
    "print(matrix)"
   ]
  },
  {
   "cell_type": "markdown",
   "id": "1f5c7ec7-46e2-4744-a85d-b83184ce2ea6",
   "metadata": {},
   "source": [
    "# ANS = 4"
   ]
  },
  {
   "cell_type": "code",
   "execution_count": 4,
   "id": "c586ffb9-bca8-45a5-9923-0b6fe0ab98d2",
   "metadata": {},
   "outputs": [
    {
     "name": "stdout",
     "output_type": "stream",
     "text": [
      "4\n"
     ]
    }
   ],
   "source": [
    "def maximze_num(arr):\n",
    "    total = 0\n",
    "    for i in range(0,len(arr),2):\n",
    "        total+=arr[i]\n",
    "    return total\n",
    "\n",
    "x = [1,4,3,2]\n",
    "print(maximze_num(x))"
   ]
  },
  {
   "cell_type": "markdown",
   "id": "33c383ab-9386-4291-9cf9-dbde426d8542",
   "metadata": {},
   "source": [
    "# ANS = 5"
   ]
  },
  {
   "cell_type": "code",
   "execution_count": 5,
   "id": "643feee7-2e9e-4ce3-918e-7b17516de638",
   "metadata": {},
   "outputs": [
    {
     "name": "stdout",
     "output_type": "stream",
     "text": [
      "2\n"
     ]
    }
   ],
   "source": [
    "def arrangeCoins(n):\n",
    "    # solve this question through two pointer approch\n",
    "    left  = 0\n",
    "    right = n\n",
    "\n",
    "    while left <= right:\n",
    "        # finding complit rows \n",
    "        mid = (left + right) // 2\n",
    "        total_coins = (mid * (mid + 1)) // 2\n",
    "\n",
    "        if total_coins <= n:\n",
    "            left = mid + 1\n",
    "        else:\n",
    "            right = mid - 1\n",
    "\n",
    "    return right\n",
    "\n",
    "n = 5\n",
    "result  = arrangeCoins(n)\n",
    "print(result) \n"
   ]
  },
  {
   "cell_type": "markdown",
   "id": "11c926b7-ecc8-4775-ab71-70882343bcbb",
   "metadata": {},
   "source": [
    "# ANS = 6"
   ]
  },
  {
   "cell_type": "code",
   "execution_count": 16,
   "id": "37e32550-a33c-4cec-b2c2-9c69508552a1",
   "metadata": {},
   "outputs": [
    {
     "name": "stdout",
     "output_type": "stream",
     "text": [
      "[0, 1, 9, 16, 100]\n"
     ]
    }
   ],
   "source": [
    "def sort_arr(nums1):\n",
    "    nums = []\n",
    "    for i in nums1:\n",
    "        i = i*i\n",
    "        nums.append(i)\n",
    "    n = len(nums)\n",
    "    for i in range(n - 1):\n",
    "        for j in range(n - 1 - i):\n",
    "            if nums[j] > nums[j + 1]:\n",
    "                nums[j], nums[j + 1] = nums[j + 1], nums[j]\n",
    "    return nums \n",
    "     \n",
    "\n",
    "                \n",
    "nums1 = [-4,-1,0,3,10]\n",
    "print(sort_arr(nums1))"
   ]
  },
  {
   "cell_type": "markdown",
   "id": "acab558b-aa8d-4fc1-ace0-3333849e355e",
   "metadata": {},
   "source": [
    "# ANS = 7"
   ]
  },
  {
   "cell_type": "code",
   "execution_count": 17,
   "id": "e96ac02b-3041-454e-b64f-a030ed78cc25",
   "metadata": {},
   "outputs": [
    {
     "name": "stdout",
     "output_type": "stream",
     "text": [
      "4\n"
     ]
    }
   ],
   "source": [
    "def maxCount(m, n, ops):\n",
    "    min_row = m\n",
    "    min_col = n\n",
    "\n",
    "    for op in ops:\n",
    "        ai, bi = op\n",
    "        min_row = min(min_row, ai)\n",
    "        min_col = min(min_col, bi)\n",
    "\n",
    "    max_integers = min_row * min_col\n",
    "    return max_integers\n",
    "m = 3\n",
    "n = 3\n",
    "ops = [[2, 2], [3, 3]]\n",
    "result = maxCount(m, n, ops)\n",
    "print(result)"
   ]
  },
  {
   "cell_type": "markdown",
   "id": "8ab13747-5544-4193-8a5f-d5a5ac87a910",
   "metadata": {},
   "source": [
    "# ANS = 8"
   ]
  },
  {
   "cell_type": "code",
   "execution_count": 18,
   "id": "d10f9111-06d9-4c8e-8460-30b42846ea30",
   "metadata": {},
   "outputs": [
    {
     "name": "stdout",
     "output_type": "stream",
     "text": [
      "[2, 3, 5, 4, 1, 7]\n"
     ]
    }
   ],
   "source": [
    "def shuffle(nums, n):\n",
    "    result = []\n",
    "    for i in range(n):\n",
    "        result.append(nums[i])\n",
    "        result.append(nums[n + i])\n",
    "    return result\n",
    "nums = [2, 5, 1, 3, 4, 7]\n",
    "n = 3\n",
    "result = shuffle(nums, n)\n",
    "print(result)"
   ]
  },
  {
   "cell_type": "code",
   "execution_count": null,
   "id": "045beb98-4886-46ce-a271-9221aee4f677",
   "metadata": {},
   "outputs": [],
   "source": []
  }
 ],
 "metadata": {
  "kernelspec": {
   "display_name": "Python 3 (ipykernel)",
   "language": "python",
   "name": "python3"
  },
  "language_info": {
   "codemirror_mode": {
    "name": "ipython",
    "version": 3
   },
   "file_extension": ".py",
   "mimetype": "text/x-python",
   "name": "python",
   "nbconvert_exporter": "python",
   "pygments_lexer": "ipython3",
   "version": "3.10.8"
  }
 },
 "nbformat": 4,
 "nbformat_minor": 5
}
